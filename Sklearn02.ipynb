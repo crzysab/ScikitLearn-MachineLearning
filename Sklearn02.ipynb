{
  "nbformat": 4,
  "nbformat_minor": 0,
  "metadata": {
    "colab": {
      "name": "Sklearn02.ipynb",
      "provenance": [],
      "authorship_tag": "ABX9TyNmAQLBwRbvBWwyBObfhhtw",
      "include_colab_link": true
    },
    "kernelspec": {
      "name": "python3",
      "display_name": "Python 3"
    },
    "language_info": {
      "name": "python"
    }
  },
  "cells": [
    {
      "cell_type": "markdown",
      "metadata": {
        "id": "view-in-github",
        "colab_type": "text"
      },
      "source": [
        "<a href=\"https://colab.research.google.com/github/sabsabrina/ScikitLearn-MachineLearning/blob/main/Sklearn02.ipynb\" target=\"_parent\"><img src=\"https://colab.research.google.com/assets/colab-badge.svg\" alt=\"Open In Colab\"/></a>"
      ]
    },
    {
      "cell_type": "markdown",
      "metadata": {
        "id": "50m06sQIMdp9"
      },
      "source": [
        "Persiapan datasets"
      ]
    },
    {
      "cell_type": "code",
      "metadata": {
        "id": "2yVHi10Y8x8Z"
      },
      "source": [
        "from sklearn.datasets import load_iris"
      ],
      "execution_count": null,
      "outputs": []
    },
    {
      "cell_type": "code",
      "metadata": {
        "id": "Uo4pW42HJOjV"
      },
      "source": [
        "iris = load_iris()\n",
        "X = iris.data\n",
        "y = iris.target"
      ],
      "execution_count": null,
      "outputs": []
    },
    {
      "cell_type": "code",
      "metadata": {
        "id": "l_e_fcuvJTIo"
      },
      "source": [
        "from sklearn.model_selection import train_test_split\n",
        "X_train, X_test, y_train, y_test = train_test_split(X,y,test_size=0.4,random_state=1)"
      ],
      "execution_count": null,
      "outputs": []
    },
    {
      "cell_type": "markdown",
      "metadata": {
        "id": "UFPFcHhiMo0v"
      },
      "source": [
        "Training Model"
      ]
    },
    {
      "cell_type": "code",
      "metadata": {
        "colab": {
          "base_uri": "https://localhost:8080/"
        },
        "id": "fdfuJ8a0MoSG",
        "outputId": "61745284-8750-47d7-de99-ce890e3fb0ea"
      },
      "source": [
        "from sklearn.neighbors import KNeighborsClassifier\n",
        "model = KNeighborsClassifier(n_neighbors=3)\n",
        "model.fit(X_train,y_train)"
      ],
      "execution_count": null,
      "outputs": [
        {
          "output_type": "execute_result",
          "data": {
            "text/plain": [
              "KNeighborsClassifier(algorithm='auto', leaf_size=30, metric='minkowski',\n",
              "                     metric_params=None, n_jobs=None, n_neighbors=3, p=2,\n",
              "                     weights='uniform')"
            ]
          },
          "metadata": {},
          "execution_count": 4
        }
      ]
    },
    {
      "cell_type": "code",
      "metadata": {
        "colab": {
          "base_uri": "https://localhost:8080/"
        },
        "id": "s6l6j57VNx1B",
        "outputId": "e6afb938-5e6d-4be2-d06c-8dc29852f667"
      },
      "source": [
        "from sklearn.metrics import accuracy_score\n",
        "\n",
        "y_pred = model.predict(X_test)\n",
        "acc = accuracy_score(y_test,y_pred)\n",
        "print(f'accuracy : {acc}')"
      ],
      "execution_count": null,
      "outputs": [
        {
          "output_type": "stream",
          "text": [
            "accuracy : 0.9833333333333333\n"
          ],
          "name": "stdout"
        }
      ]
    },
    {
      "cell_type": "markdown",
      "metadata": {
        "id": "hHssLVy-N1vg"
      },
      "source": [
        "Pemanfaatan Trained Model"
      ]
    },
    {
      "cell_type": "code",
      "metadata": {
        "colab": {
          "base_uri": "https://localhost:8080/"
        },
        "id": "HmfOM2oTNs1b",
        "outputId": "c89a4866-0c63-47f3-bd7d-9cfbaf6ff84a"
      },
      "source": [
        "data_baru = [[5,5,3,2],[2,4,3,5]]\n",
        "preds = model.predict(data_baru)\n",
        "preds"
      ],
      "execution_count": null,
      "outputs": [
        {
          "output_type": "execute_result",
          "data": {
            "text/plain": [
              "array([1, 2])"
            ]
          },
          "metadata": {},
          "execution_count": 6
        }
      ]
    },
    {
      "cell_type": "code",
      "metadata": {
        "colab": {
          "base_uri": "https://localhost:8080/"
        },
        "id": "cm3NBYYBN_wF",
        "outputId": "ef8e48e6-62c2-4d31-e074-1ada35c60b1b"
      },
      "source": [
        "pred_spesies = [iris.target_names[p] for p in preds]\n",
        "print(f'Hasil Prediksi: {pred_spesies}')"
      ],
      "execution_count": null,
      "outputs": [
        {
          "output_type": "stream",
          "text": [
            "Hasil Prediksi: ['versicolor', 'virginica']\n"
          ],
          "name": "stdout"
        }
      ]
    },
    {
      "cell_type": "markdown",
      "metadata": {
        "id": "uv9qck7dRsGM"
      },
      "source": [
        "Dump & Load Trained Model"
      ]
    },
    {
      "cell_type": "code",
      "metadata": {
        "colab": {
          "base_uri": "https://localhost:8080/"
        },
        "id": "Ym_riASBRnVB",
        "outputId": "c6ce34bb-0d92-4ff4-e856-126a89ab6a05"
      },
      "source": [
        "import joblib\n",
        "\n",
        "joblib.dump(model,'iris_classifier_knn.joblib')"
      ],
      "execution_count": null,
      "outputs": [
        {
          "output_type": "execute_result",
          "data": {
            "text/plain": [
              "['iris_classifier_knn.joblib']"
            ]
          },
          "metadata": {},
          "execution_count": 8
        }
      ]
    },
    {
      "cell_type": "code",
      "metadata": {
        "id": "2E_gK4C7SPVd"
      },
      "source": [
        "production_model = joblib.load('iris_classifier_knn.joblib')"
      ],
      "execution_count": null,
      "outputs": []
    }
  ]
}